{
 "cells": [
  {
   "cell_type": "markdown",
   "metadata": {},
   "source": [
    "### Análise da Taxa de Analfabetismo no Brasil para Pessoas de 15 Anos ou Mais (2016-2022)\n",
    "\n",
    "\n",
    "Este projeto foi desenvolvido para auxiliar uma colega no curso [Profissão: Ciêntista de dados da EBAC](https://ebaconline.com.br/cientista-de-dados), o projeto tem como objetivo analisar a taxa de analfabetismo entre pessoas com 15 anos ou mais em todas as Unidades da Federação do Brasil no período de 2016 a 2022. Utilizando dados públicos fornecidos pela API do Instituto Brasileiro de Geografia e Estatística (IBGE), extraímos informações sobre as taxas de analfabetismo por estado e por ano.\n",
    "\n",
    "\n",
    "Para este projeto, empregaremos a linguagem de programação Python juntamente com a biblioteca pandas para transformar os dados recebidos em formato JSON para um formato tabular. Em seguida, os dados serão exportados para um arquivo Excel, facilitando a análise e interpretação posterior.\n",
    "\n"
   ]
  },
  {
   "cell_type": "markdown",
   "metadata": {},
   "source": [
    "### 1. Importando as bibliotecas \n",
    "\n",
    "Neste projecto vamos apenas usar duas biblitecas: \n",
    "- **Pandas**: Para a manipulação da estrutura de dados\n",
    "- **requests**: Para fazermos a requisição na base de dados do ibge"
   ]
  },
  {
   "cell_type": "code",
   "execution_count": 11,
   "metadata": {},
   "outputs": [],
   "source": [
    "# Importando as bibliotecas\n",
    "import pandas as pd\n",
    "import requests"
   ]
  },
  {
   "cell_type": "markdown",
   "metadata": {},
   "source": [
    "### 2. Pegando as informações da API"
   ]
  },
  {
   "cell_type": "code",
   "execution_count": 12,
   "metadata": {},
   "outputs": [
    {
     "name": "stdout",
     "output_type": "stream",
     "text": [
      "200\n"
     ]
    }
   ],
   "source": [
    "response = requests.get('https://servicodados.ibge.gov.br/api/v3/agregados/7125/periodos/2016|2017|2018|2019|2022/variaveis/10267?localidades=N3[all]&classificacao=86[95251]|58[2795]')\n",
    "data = response.json()\n",
    "\n",
    "# verificar se temos sucesso\n",
    "print(response.status_code)"
   ]
  },
  {
   "cell_type": "markdown",
   "metadata": {},
   "source": [
    "### 3. Manipular a informação e fazer o devido processamento"
   ]
  },
  {
   "cell_type": "code",
   "execution_count": 13,
   "metadata": {},
   "outputs": [
    {
     "data": {
      "text/html": [
       "<div>\n",
       "<style scoped>\n",
       "    .dataframe tbody tr th:only-of-type {\n",
       "        vertical-align: middle;\n",
       "    }\n",
       "\n",
       "    .dataframe tbody tr th {\n",
       "        vertical-align: top;\n",
       "    }\n",
       "\n",
       "    .dataframe thead th {\n",
       "        text-align: right;\n",
       "    }\n",
       "</style>\n",
       "<table border=\"1\" class=\"dataframe\">\n",
       "  <thead>\n",
       "    <tr style=\"text-align: right;\">\n",
       "      <th></th>\n",
       "      <th>Estado</th>\n",
       "      <th>2016</th>\n",
       "      <th>2017</th>\n",
       "      <th>2018</th>\n",
       "      <th>2019</th>\n",
       "      <th>2022</th>\n",
       "    </tr>\n",
       "  </thead>\n",
       "  <tbody>\n",
       "    <tr>\n",
       "      <th>0</th>\n",
       "      <td>Rondônia</td>\n",
       "      <td>6.0</td>\n",
       "      <td>6.5</td>\n",
       "      <td>5.8</td>\n",
       "      <td>5.7</td>\n",
       "      <td>4.9</td>\n",
       "    </tr>\n",
       "    <tr>\n",
       "      <th>1</th>\n",
       "      <td>Acre</td>\n",
       "      <td>12.3</td>\n",
       "      <td>11.5</td>\n",
       "      <td>11.3</td>\n",
       "      <td>10.9</td>\n",
       "      <td>8.5</td>\n",
       "    </tr>\n",
       "    <tr>\n",
       "      <th>2</th>\n",
       "      <td>Amazonas</td>\n",
       "      <td>6.6</td>\n",
       "      <td>5.9</td>\n",
       "      <td>5.5</td>\n",
       "      <td>5.1</td>\n",
       "      <td>4.9</td>\n",
       "    </tr>\n",
       "    <tr>\n",
       "      <th>3</th>\n",
       "      <td>Roraima</td>\n",
       "      <td>6.1</td>\n",
       "      <td>5.6</td>\n",
       "      <td>5.5</td>\n",
       "      <td>4.6</td>\n",
       "      <td>3.9</td>\n",
       "    </tr>\n",
       "    <tr>\n",
       "      <th>4</th>\n",
       "      <td>Pará</td>\n",
       "      <td>8.6</td>\n",
       "      <td>8.2</td>\n",
       "      <td>8.2</td>\n",
       "      <td>7.8</td>\n",
       "      <td>7.4</td>\n",
       "    </tr>\n",
       "  </tbody>\n",
       "</table>\n",
       "</div>"
      ],
      "text/plain": [
       "     Estado  2016  2017  2018  2019 2022\n",
       "0  Rondônia   6.0   6.5   5.8   5.7  4.9\n",
       "1      Acre  12.3  11.5  11.3  10.9  8.5\n",
       "2  Amazonas   6.6   5.9   5.5   5.1  4.9\n",
       "3   Roraima   6.1   5.6   5.5   4.6  3.9\n",
       "4      Pará   8.6   8.2   8.2   7.8  7.4"
      ]
     },
     "execution_count": 13,
     "metadata": {},
     "output_type": "execute_result"
    }
   ],
   "source": [
    "linhas = []\n",
    "for item in  data[0]['resultados'][0]['series']:\n",
    "    estado = item['localidade']['nome']\n",
    "    serie = item['serie']\n",
    "\n",
    "    linha = {\n",
    "        'Estado': estado,\n",
    "        '2016': serie.get('2016'),\n",
    "        '2017': serie.get('2017'),\n",
    "        '2018': serie.get('2018'),\n",
    "        '2019': serie.get('2019'),\n",
    "        '2022': serie.get('2022'),\n",
    "    }\n",
    "    linhas.append(linha)\n",
    "\n",
    "df = pd.DataFrame(linhas)\n",
    "df.head()\n"
   ]
  },
  {
   "cell_type": "markdown",
   "metadata": {},
   "source": [
    "### 4. Salvar a informação no excel "
   ]
  },
  {
   "cell_type": "code",
   "execution_count": 14,
   "metadata": {},
   "outputs": [
    {
     "name": "stdout",
     "output_type": "stream",
     "text": [
      "Dados exportados para o arquivo taxa_analfabetismo_2016_2022.xlsx\n"
     ]
    }
   ],
   "source": [
    "df.to_excel('taxa_analfabetismo_2016_2022.xlsx', index=False)\n",
    "\n",
    "print(\"Dados exportados para o arquivo taxa_analfabetismo_2016_2022.xlsx\")"
   ]
  }
 ],
 "metadata": {
  "kernelspec": {
   "display_name": "base",
   "language": "python",
   "name": "python3"
  },
  "language_info": {
   "codemirror_mode": {
    "name": "ipython",
    "version": 3
   },
   "file_extension": ".py",
   "mimetype": "text/x-python",
   "name": "python",
   "nbconvert_exporter": "python",
   "pygments_lexer": "ipython3",
   "version": "3.10.9"
  }
 },
 "nbformat": 4,
 "nbformat_minor": 2
}
